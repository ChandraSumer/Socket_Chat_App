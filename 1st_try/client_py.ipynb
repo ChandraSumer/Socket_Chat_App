{
 "cells": [
  {
   "cell_type": "code",
   "execution_count": null,
   "metadata": {},
   "outputs": [
    {
     "name": "stdout",
     "output_type": "stream",
     "text": [
      "You:  hi\n",
      "Me: j\\fdw\n",
      "You:  fe\n"
     ]
    }
   ],
   "source": [
    "# Import socket module \n",
    "import socket                \n",
    "  \n",
    "# Create a socket object \n",
    "soc_obj = socket.socket()          \n",
    "# Define the port on which you want to connect \n",
    "port = 12393\n",
    "  \n",
    "# connect to the server on local computer \n",
    "soc_obj.connect(('localhost', port)) \n",
    "#soc_obj.send(('hiiiii').encode())\n",
    "# receive data from the server \n",
    "while True:\n",
    "    \n",
    "    print (\"You: \",soc_obj.recv(10000000).decode())\n",
    "    message=input(\"Me: \")\n",
    "    soc_obj.send((message).encode())\n",
    "    # close the connection \n",
    "    #soc_obj.close()        "
   ]
  },
  {
   "cell_type": "code",
   "execution_count": null,
   "metadata": {},
   "outputs": [],
   "source": []
  },
  {
   "cell_type": "code",
   "execution_count": null,
   "metadata": {},
   "outputs": [],
   "source": []
  },
  {
   "cell_type": "code",
   "execution_count": null,
   "metadata": {},
   "outputs": [],
   "source": []
  }
 ],
 "metadata": {
  "kernelspec": {
   "display_name": "Python 3",
   "language": "python",
   "name": "python3"
  },
  "language_info": {
   "codemirror_mode": {
    "name": "ipython",
    "version": 3
   },
   "file_extension": ".py",
   "mimetype": "text/x-python",
   "name": "python",
   "nbconvert_exporter": "python",
   "pygments_lexer": "ipython3",
   "version": "3.6.9"
  }
 },
 "nbformat": 4,
 "nbformat_minor": 2
}

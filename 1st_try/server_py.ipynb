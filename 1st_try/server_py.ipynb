{
 "cells": [
  {
   "cell_type": "code",
   "execution_count": null,
   "metadata": {},
   "outputs": [
    {
     "name": "stdout",
     "output_type": "stream",
     "text": [
      "Socket successfully created\n",
      "socket binded to 12393\n",
      "socket is listening\n",
      "Me: hi\n",
      "You:  j\\fdw\n",
      "Me: fe\n"
     ]
    }
   ],
   "source": [
    "import socket                \n",
    "  \n",
    "# next create a socket object \n",
    "soc_obj = socket.socket()          \n",
    "print (\"Socket successfully created\")\n",
    "\n",
    "port = 12393\n",
    "  \n",
    "# Next bind to the port \n",
    "# we have not typed any ip in the ip field \n",
    "# instead we have inputted an empty string \n",
    "# this makes the server listen to requests  \n",
    "# coming from other computers on the network \n",
    "soc_obj.bind(('localhost', port))         \n",
    "print (\"socket binded to %s\" %(port)) \n",
    "  \n",
    "# put the socket into listening mode \n",
    "soc_obj.listen(5)      \n",
    "print (\"socket is listening\")            \n",
    "connection_obj, addr = soc_obj.accept()      \n",
    "\n",
    "# a forever loop until we interrupt it or  \n",
    "# an error occurs \n",
    "while True: \n",
    "    # Establish connection with client. \n",
    "    #print(connection_obj.recv(100000).decode())\n",
    "    #print ('Got connection from', addr) \n",
    "\n",
    "    # send a thank you message to the client.\n",
    "    message=input(\"Me: \")\n",
    "    connection_obj.send((message).encode())\n",
    "    print(\"You: \",connection_obj.recv(100000).decode())\n",
    "    # Close the connection with the client \n",
    "    #print(20)\n",
    "    #connection_obj.close()"
   ]
  },
  {
   "cell_type": "code",
   "execution_count": null,
   "metadata": {},
   "outputs": [],
   "source": []
  },
  {
   "cell_type": "code",
   "execution_count": null,
   "metadata": {},
   "outputs": [],
   "source": []
  }
 ],
 "metadata": {
  "kernelspec": {
   "display_name": "Python 3",
   "language": "python",
   "name": "python3"
  },
  "language_info": {
   "codemirror_mode": {
    "name": "ipython",
    "version": 3
   },
   "file_extension": ".py",
   "mimetype": "text/x-python",
   "name": "python",
   "nbconvert_exporter": "python",
   "pygments_lexer": "ipython3",
   "version": "3.6.9"
  }
 },
 "nbformat": 4,
 "nbformat_minor": 2
}
